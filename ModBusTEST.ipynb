{
 "metadata": {
  "language_info": {
   "codemirror_mode": {
    "name": "ipython",
    "version": 3
   },
   "file_extension": ".py",
   "mimetype": "text/x-python",
   "name": "python",
   "nbconvert_exporter": "python",
   "pygments_lexer": "ipython3",
   "version": "3.8.5-final"
  },
  "orig_nbformat": 2,
  "kernelspec": {
   "name": "Python 3.8.5 32-bit",
   "display_name": "Python 3.8.5 32-bit",
   "metadata": {
    "interpreter": {
     "hash": "3097d2d2b7b3bbc376ada64e1afade08259a5b82af512e3b99091dde1e10fac7"
    }
   }
  }
 },
 "nbformat": 4,
 "nbformat_minor": 2,
 "cells": [
  {
   "cell_type": "code",
   "execution_count": 126,
   "metadata": {},
   "outputs": [
    {
     "output_type": "stream",
     "name": "stdout",
     "text": [
      "[False, False, False, False, False, False, False, False]\n"
     ]
    }
   ],
   "source": [
    "from pymodbus.client.sync import ModbusTcpClient\n",
    "client = ModbusTcpClient('192.168.1.1', port=502)\n",
    "client.connect\n",
    "client.write_coils(0,[False]*8,unit=0x1)\n",
    "result = client.read_coils(0,8,unit=0x1)\n",
    "print(result.bits)\n",
    "client.close()"
   ]
  },
  {
   "cell_type": "code",
   "execution_count": null,
   "metadata": {},
   "outputs": [],
   "source": []
  }
 ]
}